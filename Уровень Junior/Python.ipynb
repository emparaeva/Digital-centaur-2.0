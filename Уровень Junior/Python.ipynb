{
 "cells": [
  {
   "cell_type": "code",
   "execution_count": 2,
   "id": "3aa2c90d",
   "metadata": {},
   "outputs": [
    {
     "data": {
      "text/plain": [
       "'Слава'"
      ]
     },
     "execution_count": 2,
     "metadata": {},
     "output_type": "execute_result"
    }
   ],
   "source": [
    "a = 6\n",
    "my_name = 'Слава'\n",
    "\n",
    "my_name"
   ]
  },
  {
   "cell_type": "code",
   "execution_count": 3,
   "id": "05c109fc",
   "metadata": {},
   "outputs": [
    {
     "data": {
      "text/plain": [
       "17"
      ]
     },
     "execution_count": 3,
     "metadata": {},
     "output_type": "execute_result"
    }
   ],
   "source": [
    "a = 5\n",
    "b = 12\n",
    "a + b"
   ]
  },
  {
   "cell_type": "code",
   "execution_count": 5,
   "id": "c483a5ef",
   "metadata": {},
   "outputs": [
    {
     "data": {
      "text/plain": [
       "int"
      ]
     },
     "execution_count": 5,
     "metadata": {},
     "output_type": "execute_result"
    }
   ],
   "source": [
    "students_count = 508\n",
    "int"
   ]
  },
  {
   "cell_type": "code",
   "execution_count": 7,
   "id": "7c25e272",
   "metadata": {},
   "outputs": [
    {
     "data": {
      "text/plain": [
       "float"
      ]
     },
     "execution_count": 7,
     "metadata": {},
     "output_type": "execute_result"
    }
   ],
   "source": [
    "room_temp = 25.3\n",
    "float"
   ]
  },
  {
   "cell_type": "code",
   "execution_count": 9,
   "id": "7ecca7bf",
   "metadata": {},
   "outputs": [
    {
     "data": {
      "text/plain": [
       "'string'"
      ]
     },
     "execution_count": 9,
     "metadata": {},
     "output_type": "execute_result"
    }
   ],
   "source": [
    "movie = 'Зеленая книга'\n",
    "'string'"
   ]
  },
  {
   "cell_type": "code",
   "execution_count": 11,
   "id": "39020c20",
   "metadata": {},
   "outputs": [
    {
     "data": {
      "text/plain": [
       "(str, int)"
      ]
     },
     "execution_count": 11,
     "metadata": {},
     "output_type": "execute_result"
    }
   ],
   "source": [
    "type('Питонисты'), type(25)"
   ]
  },
  {
   "cell_type": "code",
   "execution_count": 15,
   "id": "925109cc",
   "metadata": {},
   "outputs": [
    {
     "data": {
      "text/plain": [
       "(2.0, 23.0)"
      ]
     },
     "execution_count": 15,
     "metadata": {},
     "output_type": "execute_result"
    }
   ],
   "source": [
    "str()\n",
    "int()\n",
    "float()\n",
    "\n",
    "a = float(2)\n",
    "b = float('23')\n",
    "\n",
    "a, b"
   ]
  },
  {
   "cell_type": "code",
   "execution_count": 19,
   "id": "fee89fc2",
   "metadata": {},
   "outputs": [
    {
     "data": {
      "text/plain": [
       "(3, 1, 16)"
      ]
     },
     "execution_count": 19,
     "metadata": {},
     "output_type": "execute_result"
    }
   ],
   "source": [
    "181 // 60, 181 % 60, 2**4"
   ]
  },
  {
   "cell_type": "code",
   "execution_count": 20,
   "id": "ff6812e4",
   "metadata": {},
   "outputs": [
    {
     "data": {
      "text/plain": [
       "float"
      ]
     },
     "execution_count": 20,
     "metadata": {},
     "output_type": "execute_result"
    }
   ],
   "source": [
    "type(2+3.0)"
   ]
  },
  {
   "cell_type": "code",
   "execution_count": 21,
   "id": "536937d4",
   "metadata": {},
   "outputs": [
    {
     "data": {
      "text/plain": [
       "float"
      ]
     },
     "execution_count": 21,
     "metadata": {},
     "output_type": "execute_result"
    }
   ],
   "source": [
    "type(4 / 2)"
   ]
  },
  {
   "cell_type": "code",
   "execution_count": 23,
   "id": "fb6826be",
   "metadata": {},
   "outputs": [
    {
     "data": {
      "text/plain": [
       "('Hello, world!', 'Моя строка Моя строка Моя строка ')"
      ]
     },
     "execution_count": 23,
     "metadata": {},
     "output_type": "execute_result"
    }
   ],
   "source": [
    "a = 'Hello, ' + 'world!'\n",
    "b = 'Моя строка '*3\n",
    "a, b"
   ]
  },
  {
   "cell_type": "code",
   "execution_count": 26,
   "id": "5da2b9f7",
   "metadata": {},
   "outputs": [
    {
     "name": "stdout",
     "output_type": "stream",
     "text": [
      "Как тебя зовут?Елена\n"
     ]
    }
   ],
   "source": [
    "# Тип всегда строка\n",
    "name = input(\"Как тебя зовут?\")"
   ]
  },
  {
   "cell_type": "code",
   "execution_count": 27,
   "id": "d911e288",
   "metadata": {},
   "outputs": [
    {
     "data": {
      "text/plain": [
       "'Елена'"
      ]
     },
     "execution_count": 27,
     "metadata": {},
     "output_type": "execute_result"
    }
   ],
   "source": [
    "name"
   ]
  },
  {
   "cell_type": "code",
   "execution_count": 29,
   "id": "6f93187a",
   "metadata": {},
   "outputs": [
    {
     "name": "stdout",
     "output_type": "stream",
     "text": [
      "Сколько тебе лет?28\n"
     ]
    }
   ],
   "source": [
    "age = int(input(\"Сколько тебе лет?\"))"
   ]
  },
  {
   "cell_type": "code",
   "execution_count": 30,
   "id": "b2ef70cc",
   "metadata": {},
   "outputs": [
    {
     "data": {
      "text/plain": [
       "int"
      ]
     },
     "execution_count": 30,
     "metadata": {},
     "output_type": "execute_result"
    }
   ],
   "source": [
    "type(age)"
   ]
  },
  {
   "cell_type": "code",
   "execution_count": 31,
   "id": "01daae01",
   "metadata": {},
   "outputs": [
    {
     "data": {
      "text/plain": [
       "(True, False)"
      ]
     },
     "execution_count": 31,
     "metadata": {},
     "output_type": "execute_result"
    }
   ],
   "source": [
    "bool\n",
    "True, False"
   ]
  },
  {
   "cell_type": "code",
   "execution_count": 32,
   "id": "e491ab07",
   "metadata": {},
   "outputs": [
    {
     "data": {
      "text/plain": [
       "(1, 0)"
      ]
     },
     "execution_count": 32,
     "metadata": {},
     "output_type": "execute_result"
    }
   ],
   "source": [
    "int(True), int(False)"
   ]
  },
  {
   "cell_type": "code",
   "execution_count": 35,
   "id": "8fb43588",
   "metadata": {},
   "outputs": [
    {
     "data": {
      "text/plain": [
       "(True, True)"
      ]
     },
     "execution_count": 35,
     "metadata": {},
     "output_type": "execute_result"
    }
   ],
   "source": [
    "bool(' '), bool('Hello, world!')"
   ]
  },
  {
   "cell_type": "code",
   "execution_count": 37,
   "id": "d5da8dc4",
   "metadata": {},
   "outputs": [
    {
     "data": {
      "text/plain": [
       "(False, True, True, True)"
      ]
     },
     "execution_count": 37,
     "metadata": {},
     "output_type": "execute_result"
    }
   ],
   "source": [
    "1>4, 4==4, 6<=8, 4 != 8"
   ]
  },
  {
   "cell_type": "code",
   "execution_count": 39,
   "id": "d3bcb289",
   "metadata": {},
   "outputs": [
    {
     "data": {
      "text/plain": [
       "(False, True)"
      ]
     },
     "execution_count": 39,
     "metadata": {},
     "output_type": "execute_result"
    }
   ],
   "source": [
    "# Бинарные операции\n",
    "False and True, False or True"
   ]
  },
  {
   "cell_type": "code",
   "execution_count": 40,
   "id": "316d0eaa",
   "metadata": {},
   "outputs": [
    {
     "data": {
      "text/plain": [
       "(True, False)"
      ]
     },
     "execution_count": 40,
     "metadata": {},
     "output_type": "execute_result"
    }
   ],
   "source": [
    "# Унарные операции\n",
    "not False, not True"
   ]
  },
  {
   "cell_type": "code",
   "execution_count": 42,
   "id": "92cf8917",
   "metadata": {},
   "outputs": [
    {
     "name": "stdout",
     "output_type": "stream",
     "text": [
      "50001\n",
      "Пойдем покупать телефон\n"
     ]
    }
   ],
   "source": [
    "a = int(input())\n",
    "if a >= 50000:\n",
    "    print('Пойдем покупать телефон')\n",
    "else:\n",
    "    print('Нужно еще немного накопить')"
   ]
  },
  {
   "cell_type": "code",
   "execution_count": 43,
   "id": "b79053f2",
   "metadata": {},
   "outputs": [
    {
     "name": "stdout",
     "output_type": "stream",
     "text": [
      "Первое число больше второго\n"
     ]
    }
   ],
   "source": [
    "a = 5\n",
    "b = 4\n",
    "if a == b:\n",
    "    print('Числа равны')\n",
    "elif a < b:\n",
    "    print('Первое число меньше второго')\n",
    "else:\n",
    "    print('Первое число больше второго')"
   ]
  },
  {
   "cell_type": "code",
   "execution_count": null,
   "id": "bd9c5aa0",
   "metadata": {},
   "outputs": [],
   "source": []
  }
 ],
 "metadata": {
  "kernelspec": {
   "display_name": "Python 3 (ipykernel)",
   "language": "python",
   "name": "python3"
  },
  "language_info": {
   "codemirror_mode": {
    "name": "ipython",
    "version": 3
   },
   "file_extension": ".py",
   "mimetype": "text/x-python",
   "name": "python",
   "nbconvert_exporter": "python",
   "pygments_lexer": "ipython3",
   "version": "3.9.12"
  }
 },
 "nbformat": 4,
 "nbformat_minor": 5
}
