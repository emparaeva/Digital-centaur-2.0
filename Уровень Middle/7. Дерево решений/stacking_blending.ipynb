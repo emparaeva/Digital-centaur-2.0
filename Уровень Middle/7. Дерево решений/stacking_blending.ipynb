{
 "cells": [
  {
   "cell_type": "markdown",
   "metadata": {},
   "source": [
    "# Стекинг и Блендинг"
   ]
  },
  {
   "cell_type": "code",
   "execution_count": 1,
   "metadata": {},
   "outputs": [],
   "source": [
    "import catboost"
   ]
  },
  {
   "cell_type": "code",
   "execution_count": 2,
   "metadata": {},
   "outputs": [],
   "source": [
    "from catboost import CatBoostClassifier"
   ]
  },
  {
   "cell_type": "code",
   "execution_count": 3,
   "metadata": {},
   "outputs": [
    {
     "data": {
      "text/plain": [
       "<catboost.core.CatBoostClassifier at 0x7efffa0ede20>"
      ]
     },
     "execution_count": 3,
     "metadata": {},
     "output_type": "execute_result"
    }
   ],
   "source": [
    "CatBoostClassifier()"
   ]
  },
  {
   "cell_type": "code",
   "execution_count": 1,
   "metadata": {},
   "outputs": [],
   "source": [
    "import pandas as pd\n",
    "import numpy as np\n",
    "import matplotlib.pyplot as plt\n",
    "%matplotlib inline"
   ]
  },
  {
   "cell_type": "code",
   "execution_count": 2,
   "metadata": {},
   "outputs": [],
   "source": [
    "# Загрузка\n",
    "from sklearn import datasets\n",
    "from sklearn.model_selection import train_test_split\n",
    "from sklearn.linear_model import LogisticRegression, LinearRegression\n",
    "from sklearn.ensemble import RandomForestClassifier\n",
    "from sklearn.metrics import accuracy_score, roc_auc_score, mean_squared_error\n",
    "\n",
    "import warnings\n",
    "warnings.filterwarnings('ignore')"
   ]
  },
  {
   "cell_type": "markdown",
   "metadata": {},
   "source": [
    "### Загрузка датасета"
   ]
  },
  {
   "cell_type": "code",
   "execution_count": 3,
   "metadata": {},
   "outputs": [],
   "source": [
    "# Для блендинга нужен большой датасет, поэтому давайте создадим свой!\n",
    "data, target = datasets.make_classification(n_samples=100000, n_features = 15, n_informative = 12, n_classes = 2, \n",
    "                                            n_redundant = 0, n_clusters_per_class = 1, \n",
    "                                            random_state = 7)"
   ]
  },
  {
   "cell_type": "code",
   "execution_count": 4,
   "metadata": {},
   "outputs": [],
   "source": [
    "# Положим данные в табличку\n",
    "df = pd.DataFrame(data=data, index=range(len(data)), columns=range(len(data[0])))\n",
    "t_df = pd.DataFrame(data=target)"
   ]
  },
  {
   "cell_type": "code",
   "execution_count": 5,
   "metadata": {},
   "outputs": [
    {
     "data": {
      "text/html": [
       "<div>\n",
       "<style scoped>\n",
       "    .dataframe tbody tr th:only-of-type {\n",
       "        vertical-align: middle;\n",
       "    }\n",
       "\n",
       "    .dataframe tbody tr th {\n",
       "        vertical-align: top;\n",
       "    }\n",
       "\n",
       "    .dataframe thead th {\n",
       "        text-align: right;\n",
       "    }\n",
       "</style>\n",
       "<table border=\"1\" class=\"dataframe\">\n",
       "  <thead>\n",
       "    <tr style=\"text-align: right;\">\n",
       "      <th></th>\n",
       "      <th>0</th>\n",
       "      <th>1</th>\n",
       "      <th>2</th>\n",
       "      <th>3</th>\n",
       "      <th>4</th>\n",
       "      <th>5</th>\n",
       "      <th>6</th>\n",
       "      <th>7</th>\n",
       "      <th>8</th>\n",
       "      <th>9</th>\n",
       "      <th>10</th>\n",
       "      <th>11</th>\n",
       "      <th>12</th>\n",
       "      <th>13</th>\n",
       "      <th>14</th>\n",
       "    </tr>\n",
       "  </thead>\n",
       "  <tbody>\n",
       "    <tr>\n",
       "      <th>0</th>\n",
       "      <td>1.032784</td>\n",
       "      <td>0.121863</td>\n",
       "      <td>1.152660</td>\n",
       "      <td>-1.824953</td>\n",
       "      <td>0.695797</td>\n",
       "      <td>3.623146</td>\n",
       "      <td>-1.427768</td>\n",
       "      <td>-0.907597</td>\n",
       "      <td>-0.259047</td>\n",
       "      <td>-2.617477</td>\n",
       "      <td>-1.162208</td>\n",
       "      <td>-0.942514</td>\n",
       "      <td>0.361030</td>\n",
       "      <td>0.047440</td>\n",
       "      <td>-2.414601</td>\n",
       "    </tr>\n",
       "    <tr>\n",
       "      <th>1</th>\n",
       "      <td>0.003259</td>\n",
       "      <td>-0.266702</td>\n",
       "      <td>-0.172534</td>\n",
       "      <td>0.317077</td>\n",
       "      <td>-1.272421</td>\n",
       "      <td>-0.500436</td>\n",
       "      <td>-5.172817</td>\n",
       "      <td>2.400920</td>\n",
       "      <td>-3.226955</td>\n",
       "      <td>5.236402</td>\n",
       "      <td>-1.392474</td>\n",
       "      <td>1.453011</td>\n",
       "      <td>0.651480</td>\n",
       "      <td>-0.405567</td>\n",
       "      <td>-0.047236</td>\n",
       "    </tr>\n",
       "    <tr>\n",
       "      <th>2</th>\n",
       "      <td>-3.361852</td>\n",
       "      <td>0.328164</td>\n",
       "      <td>-0.676021</td>\n",
       "      <td>-2.679977</td>\n",
       "      <td>1.209057</td>\n",
       "      <td>2.391206</td>\n",
       "      <td>-1.455813</td>\n",
       "      <td>2.559608</td>\n",
       "      <td>0.715355</td>\n",
       "      <td>-0.741438</td>\n",
       "      <td>-0.497015</td>\n",
       "      <td>-4.828820</td>\n",
       "      <td>-0.250569</td>\n",
       "      <td>0.026710</td>\n",
       "      <td>-0.377829</td>\n",
       "    </tr>\n",
       "    <tr>\n",
       "      <th>3</th>\n",
       "      <td>-3.023783</td>\n",
       "      <td>-2.627421</td>\n",
       "      <td>0.290723</td>\n",
       "      <td>-6.082231</td>\n",
       "      <td>0.757969</td>\n",
       "      <td>-1.261731</td>\n",
       "      <td>-1.137153</td>\n",
       "      <td>5.710433</td>\n",
       "      <td>0.380537</td>\n",
       "      <td>0.073292</td>\n",
       "      <td>1.782437</td>\n",
       "      <td>3.590135</td>\n",
       "      <td>0.498531</td>\n",
       "      <td>1.949923</td>\n",
       "      <td>-2.412880</td>\n",
       "    </tr>\n",
       "    <tr>\n",
       "      <th>4</th>\n",
       "      <td>-3.043163</td>\n",
       "      <td>-0.712612</td>\n",
       "      <td>1.113411</td>\n",
       "      <td>-3.008166</td>\n",
       "      <td>0.201240</td>\n",
       "      <td>3.097968</td>\n",
       "      <td>0.377683</td>\n",
       "      <td>0.964651</td>\n",
       "      <td>0.680228</td>\n",
       "      <td>-2.986106</td>\n",
       "      <td>0.952898</td>\n",
       "      <td>-2.510878</td>\n",
       "      <td>1.341273</td>\n",
       "      <td>1.772567</td>\n",
       "      <td>-3.179428</td>\n",
       "    </tr>\n",
       "  </tbody>\n",
       "</table>\n",
       "</div>"
      ],
      "text/plain": [
       "         0         1         2         3         4         5         6   \\\n",
       "0  1.032784  0.121863  1.152660 -1.824953  0.695797  3.623146 -1.427768   \n",
       "1  0.003259 -0.266702 -0.172534  0.317077 -1.272421 -0.500436 -5.172817   \n",
       "2 -3.361852  0.328164 -0.676021 -2.679977  1.209057  2.391206 -1.455813   \n",
       "3 -3.023783 -2.627421  0.290723 -6.082231  0.757969 -1.261731 -1.137153   \n",
       "4 -3.043163 -0.712612  1.113411 -3.008166  0.201240  3.097968  0.377683   \n",
       "\n",
       "         7         8         9         10        11        12        13  \\\n",
       "0 -0.907597 -0.259047 -2.617477 -1.162208 -0.942514  0.361030  0.047440   \n",
       "1  2.400920 -3.226955  5.236402 -1.392474  1.453011  0.651480 -0.405567   \n",
       "2  2.559608  0.715355 -0.741438 -0.497015 -4.828820 -0.250569  0.026710   \n",
       "3  5.710433  0.380537  0.073292  1.782437  3.590135  0.498531  1.949923   \n",
       "4  0.964651  0.680228 -2.986106  0.952898 -2.510878  1.341273  1.772567   \n",
       "\n",
       "         14  \n",
       "0 -2.414601  \n",
       "1 -0.047236  \n",
       "2 -0.377829  \n",
       "3 -2.412880  \n",
       "4 -3.179428  "
      ]
     },
     "execution_count": 5,
     "metadata": {},
     "output_type": "execute_result"
    }
   ],
   "source": [
    "df.head()"
   ]
  },
  {
   "cell_type": "code",
   "execution_count": 6,
   "metadata": {},
   "outputs": [
    {
     "data": {
      "text/plain": [
       "1    50007\n",
       "0    49993\n",
       "Name: 0, dtype: int64"
      ]
     },
     "execution_count": 6,
     "metadata": {},
     "output_type": "execute_result"
    }
   ],
   "source": [
    "# Посмотрим на баланс классов нашей выборки\n",
    "t_df[0].value_counts()"
   ]
  },
  {
   "cell_type": "markdown",
   "metadata": {},
   "source": [
    "### Сформируем отложенную выборку, на которой будем оценивать результаты"
   ]
  },
  {
   "cell_type": "code",
   "execution_count": 7,
   "metadata": {},
   "outputs": [],
   "source": [
    "# Разделите данные на трейн и тест\n",
    "X_df, X_test, y_df, y_test = train_test_split(df, t_df, random_state=322, test_size=0.2)\n",
    "# Разделите трейн выборку на 2 части для блендинга\n",
    "X_train, X_valid, y_train, y_valid = train_test_split(X_df, y_df, random_state=322, test_size=0.4)"
   ]
  },
  {
   "cell_type": "code",
   "execution_count": 8,
   "metadata": {},
   "outputs": [
    {
     "name": "stdout",
     "output_type": "stream",
     "text": [
      "(20000, 15) (20000, 1)\n",
      "(48000, 15) (48000, 1)\n",
      "(32000, 15) (32000, 1)\n"
     ]
    }
   ],
   "source": [
    "# Тест-выборка\n",
    "print(X_test.shape, y_test.shape)\n",
    "# Выборка для обучения базовых моделей\n",
    "print(X_train.shape, y_train.shape)\n",
    "# Выборка для обучения мета-алгоритма\n",
    "print(X_valid.shape, y_valid.shape)"
   ]
  },
  {
   "cell_type": "markdown",
   "metadata": {},
   "source": [
    "### Обучаем базовые алгоритмы"
   ]
  },
  {
   "cell_type": "markdown",
   "metadata": {},
   "source": [
    "Почему мы используем линейную регрессию в задаче классификации?\n",
    "\n",
    "Дело в том, что при создании метапризнаков более важную роль играет не те модели, которые создают метапризнаки, а сам факт создания метафичей. Кроме того, в презентации говорилось, что лучше использовать модели с разной породой.\n",
    "\n",
    "Однако не надо бездумно стекать модели! Сейчас, цель упражнения понять основную идею метода. В будущем подходите к выбору модели для стекинга и блендинга вдумчиво:)"
   ]
  },
  {
   "cell_type": "code",
   "execution_count": 9,
   "metadata": {},
   "outputs": [],
   "source": [
    "# Создаем базовые модели, можете поиграться с параметрами\n",
    "log = LogisticRegression()\n",
    "lin = LinearRegression()\n",
    "rf = RandomForestClassifier()"
   ]
  },
  {
   "cell_type": "code",
   "execution_count": 11,
   "metadata": {},
   "outputs": [
    {
     "data": {
      "text/plain": [
       "RandomForestClassifier()"
      ]
     },
     "execution_count": 11,
     "metadata": {},
     "output_type": "execute_result"
    }
   ],
   "source": [
    "# Обучаем базовые модели на первой части обучающей выборки\n",
    "log.fit(X_train,y_train)\n",
    "lin.fit(X_train,y_train)\n",
    "rf.fit(X_train,y_train)"
   ]
  },
  {
   "cell_type": "code",
   "execution_count": 12,
   "metadata": {},
   "outputs": [],
   "source": [
    "# создаем метапризнаки с помощью предобученных базовых моделей на оставшейся части трейна\n",
    "# по сути это предсказания моделями таргета\n",
    "meta_pred_log = log.predict_proba(X_valid)\n",
    "meta_pred_lin = lin.predict(X_valid)\n",
    "meta_pred_rf = rf.predict(X_valid)"
   ]
  },
  {
   "cell_type": "code",
   "execution_count": 13,
   "metadata": {},
   "outputs": [],
   "source": [
    "# Формируем минидатасет из метапризнаков\n",
    "meta_df = pd.DataFrame(data=0, index=range(len(X_valid)), columns=['log', 'lin', 'rf'])\n",
    "\n",
    "meta_df['log'] = meta_pred_log\n",
    "meta_df['lin'] = meta_pred_lin\n",
    "meta_df['rf'] = meta_pred_rf"
   ]
  },
  {
   "cell_type": "code",
   "execution_count": 14,
   "metadata": {},
   "outputs": [
    {
     "data": {
      "text/html": [
       "<div>\n",
       "<style scoped>\n",
       "    .dataframe tbody tr th:only-of-type {\n",
       "        vertical-align: middle;\n",
       "    }\n",
       "\n",
       "    .dataframe tbody tr th {\n",
       "        vertical-align: top;\n",
       "    }\n",
       "\n",
       "    .dataframe thead th {\n",
       "        text-align: right;\n",
       "    }\n",
       "</style>\n",
       "<table border=\"1\" class=\"dataframe\">\n",
       "  <thead>\n",
       "    <tr style=\"text-align: right;\">\n",
       "      <th></th>\n",
       "      <th>log</th>\n",
       "      <th>lin</th>\n",
       "      <th>rf</th>\n",
       "    </tr>\n",
       "  </thead>\n",
       "  <tbody>\n",
       "    <tr>\n",
       "      <th>0</th>\n",
       "      <td>0.979010</td>\n",
       "      <td>0.129101</td>\n",
       "      <td>0</td>\n",
       "    </tr>\n",
       "    <tr>\n",
       "      <th>1</th>\n",
       "      <td>0.008624</td>\n",
       "      <td>0.991087</td>\n",
       "      <td>1</td>\n",
       "    </tr>\n",
       "    <tr>\n",
       "      <th>2</th>\n",
       "      <td>0.007930</td>\n",
       "      <td>1.008216</td>\n",
       "      <td>1</td>\n",
       "    </tr>\n",
       "    <tr>\n",
       "      <th>3</th>\n",
       "      <td>0.304501</td>\n",
       "      <td>0.591517</td>\n",
       "      <td>1</td>\n",
       "    </tr>\n",
       "    <tr>\n",
       "      <th>4</th>\n",
       "      <td>0.022485</td>\n",
       "      <td>0.890615</td>\n",
       "      <td>1</td>\n",
       "    </tr>\n",
       "    <tr>\n",
       "      <th>...</th>\n",
       "      <td>...</td>\n",
       "      <td>...</td>\n",
       "      <td>...</td>\n",
       "    </tr>\n",
       "    <tr>\n",
       "      <th>31995</th>\n",
       "      <td>0.812118</td>\n",
       "      <td>0.374930</td>\n",
       "      <td>0</td>\n",
       "    </tr>\n",
       "    <tr>\n",
       "      <th>31996</th>\n",
       "      <td>0.998591</td>\n",
       "      <td>-0.095267</td>\n",
       "      <td>0</td>\n",
       "    </tr>\n",
       "    <tr>\n",
       "      <th>31997</th>\n",
       "      <td>0.004034</td>\n",
       "      <td>1.072925</td>\n",
       "      <td>1</td>\n",
       "    </tr>\n",
       "    <tr>\n",
       "      <th>31998</th>\n",
       "      <td>0.577507</td>\n",
       "      <td>0.480139</td>\n",
       "      <td>0</td>\n",
       "    </tr>\n",
       "    <tr>\n",
       "      <th>31999</th>\n",
       "      <td>0.002031</td>\n",
       "      <td>1.140126</td>\n",
       "      <td>1</td>\n",
       "    </tr>\n",
       "  </tbody>\n",
       "</table>\n",
       "<p>32000 rows × 3 columns</p>\n",
       "</div>"
      ],
      "text/plain": [
       "            log       lin  rf\n",
       "0      0.979010  0.129101   0\n",
       "1      0.008624  0.991087   1\n",
       "2      0.007930  1.008216   1\n",
       "3      0.304501  0.591517   1\n",
       "4      0.022485  0.890615   1\n",
       "...         ...       ...  ..\n",
       "31995  0.812118  0.374930   0\n",
       "31996  0.998591 -0.095267   0\n",
       "31997  0.004034  1.072925   1\n",
       "31998  0.577507  0.480139   0\n",
       "31999  0.002031  1.140126   1\n",
       "\n",
       "[32000 rows x 3 columns]"
      ]
     },
     "execution_count": 14,
     "metadata": {},
     "output_type": "execute_result"
    }
   ],
   "source": [
    "# Посмотрите, что получилось\n",
    "meta_df"
   ]
  },
  {
   "cell_type": "code",
   "execution_count": 15,
   "metadata": {},
   "outputs": [],
   "source": [
    "# Создайте метапризнаки для теста\n",
    "meta_test_pred_log = log.predict_proba(X_test)\n",
    "meta_test_pred_lin = lin.predict(X_test)\n",
    "meta_test_pred_rf = rf.predict(X_test)"
   ]
  },
  {
   "cell_type": "code",
   "execution_count": 16,
   "metadata": {},
   "outputs": [],
   "source": [
    "# Сформируйте из них датасет\n",
    "meta_test_df = pd.DataFrame(data=0, index=range(len(X_test)), columns=['log', 'lin', 'rf'])\n",
    "\n",
    "meta_test_df['log'] = meta_test_pred_log\n",
    "meta_test_df['lin'] = meta_test_pred_lin\n",
    "meta_test_df['rf'] = meta_test_pred_rf"
   ]
  },
  {
   "cell_type": "code",
   "execution_count": 17,
   "metadata": {},
   "outputs": [
    {
     "data": {
      "text/html": [
       "<div>\n",
       "<style scoped>\n",
       "    .dataframe tbody tr th:only-of-type {\n",
       "        vertical-align: middle;\n",
       "    }\n",
       "\n",
       "    .dataframe tbody tr th {\n",
       "        vertical-align: top;\n",
       "    }\n",
       "\n",
       "    .dataframe thead th {\n",
       "        text-align: right;\n",
       "    }\n",
       "</style>\n",
       "<table border=\"1\" class=\"dataframe\">\n",
       "  <thead>\n",
       "    <tr style=\"text-align: right;\">\n",
       "      <th></th>\n",
       "      <th>log</th>\n",
       "      <th>lin</th>\n",
       "      <th>rf</th>\n",
       "    </tr>\n",
       "  </thead>\n",
       "  <tbody>\n",
       "    <tr>\n",
       "      <th>0</th>\n",
       "      <td>0.698326</td>\n",
       "      <td>0.430785</td>\n",
       "      <td>0</td>\n",
       "    </tr>\n",
       "    <tr>\n",
       "      <th>1</th>\n",
       "      <td>0.117174</td>\n",
       "      <td>0.714137</td>\n",
       "      <td>1</td>\n",
       "    </tr>\n",
       "    <tr>\n",
       "      <th>2</th>\n",
       "      <td>0.999892</td>\n",
       "      <td>-0.358075</td>\n",
       "      <td>0</td>\n",
       "    </tr>\n",
       "    <tr>\n",
       "      <th>3</th>\n",
       "      <td>0.013876</td>\n",
       "      <td>0.946337</td>\n",
       "      <td>1</td>\n",
       "    </tr>\n",
       "    <tr>\n",
       "      <th>4</th>\n",
       "      <td>0.991858</td>\n",
       "      <td>0.064901</td>\n",
       "      <td>0</td>\n",
       "    </tr>\n",
       "    <tr>\n",
       "      <th>...</th>\n",
       "      <td>...</td>\n",
       "      <td>...</td>\n",
       "      <td>...</td>\n",
       "    </tr>\n",
       "    <tr>\n",
       "      <th>19995</th>\n",
       "      <td>0.723047</td>\n",
       "      <td>0.426283</td>\n",
       "      <td>0</td>\n",
       "    </tr>\n",
       "    <tr>\n",
       "      <th>19996</th>\n",
       "      <td>0.703470</td>\n",
       "      <td>0.443887</td>\n",
       "      <td>0</td>\n",
       "    </tr>\n",
       "    <tr>\n",
       "      <th>19997</th>\n",
       "      <td>0.115811</td>\n",
       "      <td>0.727287</td>\n",
       "      <td>1</td>\n",
       "    </tr>\n",
       "    <tr>\n",
       "      <th>19998</th>\n",
       "      <td>0.093751</td>\n",
       "      <td>0.741558</td>\n",
       "      <td>1</td>\n",
       "    </tr>\n",
       "    <tr>\n",
       "      <th>19999</th>\n",
       "      <td>0.926059</td>\n",
       "      <td>0.273317</td>\n",
       "      <td>0</td>\n",
       "    </tr>\n",
       "  </tbody>\n",
       "</table>\n",
       "<p>20000 rows × 3 columns</p>\n",
       "</div>"
      ],
      "text/plain": [
       "            log       lin  rf\n",
       "0      0.698326  0.430785   0\n",
       "1      0.117174  0.714137   1\n",
       "2      0.999892 -0.358075   0\n",
       "3      0.013876  0.946337   1\n",
       "4      0.991858  0.064901   0\n",
       "...         ...       ...  ..\n",
       "19995  0.723047  0.426283   0\n",
       "19996  0.703470  0.443887   0\n",
       "19997  0.115811  0.727287   1\n",
       "19998  0.093751  0.741558   1\n",
       "19999  0.926059  0.273317   0\n",
       "\n",
       "[20000 rows x 3 columns]"
      ]
     },
     "execution_count": 17,
     "metadata": {},
     "output_type": "execute_result"
    }
   ],
   "source": [
    "# Посмотрите, что получилось\n",
    "meta_test_df"
   ]
  },
  {
   "cell_type": "markdown",
   "metadata": {},
   "source": [
    "### Обучаем алгоритм и метаалгоритм"
   ]
  },
  {
   "cell_type": "code",
   "execution_count": 18,
   "metadata": {},
   "outputs": [
    {
     "data": {
      "text/plain": [
       "LogisticRegression()"
      ]
     },
     "execution_count": 18,
     "metadata": {},
     "output_type": "execute_result"
    }
   ],
   "source": [
    "# Создаем метаалгоритмы\n",
    "metaalg = LogisticRegression()\n",
    "alg = LogisticRegression()\n",
    "\n",
    "# Обучаем их\n",
    "metaalg.fit(meta_df, y_valid) # обучаем на признаках из meta_df\n",
    "\n",
    "alg.fit(X_df, y_df) # обучаем на признаках из X_df"
   ]
  },
  {
   "cell_type": "code",
   "execution_count": 18,
   "metadata": {},
   "outputs": [],
   "source": [
    "# Сделайте предсказания для X_test метаалгоритмом и обычным алгоритмом\n",
    "meta_y_pred = metaalg.predict(meta_test_df)\n",
    "y_pred = alg.predict(X_test)"
   ]
  },
  {
   "cell_type": "markdown",
   "metadata": {},
   "source": [
    "### Сравниваем качество"
   ]
  },
  {
   "cell_type": "code",
   "execution_count": 19,
   "metadata": {},
   "outputs": [
    {
     "name": "stdout",
     "output_type": "stream",
     "text": [
      "Ошибка блендинга:  0.0396\n",
      "Ошибка модели:  0.09645\n"
     ]
    }
   ],
   "source": [
    "# Посмотрим ошибку\n",
    "print('Ошибка блендинга: ', mean_squared_error(y_test, meta_y_pred))\n",
    "print('Ошибка модели: ', mean_squared_error(y_test, y_pred))"
   ]
  },
  {
   "cell_type": "code",
   "execution_count": null,
   "metadata": {},
   "outputs": [],
   "source": []
  }
 ],
 "metadata": {
  "kernelspec": {
   "display_name": "Python 3 (ipykernel)",
   "language": "python",
   "name": "python3"
  },
  "language_info": {
   "codemirror_mode": {
    "name": "ipython",
    "version": 3
   },
   "file_extension": ".py",
   "mimetype": "text/x-python",
   "name": "python",
   "nbconvert_exporter": "python",
   "pygments_lexer": "ipython3",
   "version": "3.9.12"
  }
 },
 "nbformat": 4,
 "nbformat_minor": 2
}
